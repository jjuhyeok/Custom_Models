{
  "nbformat": 4,
  "nbformat_minor": 0,
  "metadata": {
    "colab": {
      "provenance": []
    },
    "kernelspec": {
      "name": "python3",
      "display_name": "Python 3"
    },
    "language_info": {
      "name": "python"
    }
  },
  "cells": [
    {
      "cell_type": "code",
      "source": [
        "#Gradient Descent\n",
        "import numpy as np\n",
        "\n",
        "class MyLinearRegression:\n",
        "  def __init__(self):\n",
        "    self.w = None\n",
        "    self.b = None\n",
        "\n",
        "  def fit(self, X, y):\n",
        "    num_samples, num_features = X.shape\n",
        "    self.w = np.zeros(num_features)  # 특성의 수에 따라 동적으로 초기화\n",
        "    self.b = 0\n",
        "    lr = 0.01\n",
        "    for i in range(1000):\n",
        "      y_pred = np.dot(X,self.w) + self.b\n",
        "      ### ***가중치를 미분해야하니까 부호 안바뀌게 y_pred를 먼저***\n",
        "      dw = (1/num_samples) * (np.dot(X.T,(y_pred - y)))\n",
        "      db = (1/num_samples) * (np.sum(y_pred - y))\n",
        "      self.w-=lr*dw\n",
        "      self.b-=lr*db\n",
        "\n",
        "  def predict(self,X):\n",
        "      y_pred = np.dot(X,self.w) + self.b\n",
        "      return y_pred"
      ],
      "metadata": {
        "id": "K_a3dlYY9nSJ"
      },
      "execution_count": null,
      "outputs": []
    },
    {
      "cell_type": "code",
      "source": [
        "import numpy as np\n",
        "\n",
        "# instantiate the model\n",
        "model = MyLinearRegression()\n",
        "\n",
        "# 학습 데이터를 설정합니다\n",
        "X = np.array([[1, 7], [2, 12], [3, 1]])\n",
        "y = np.array([2, 3, 5])\n",
        "\n",
        "# fit the model\n",
        "model.fit(X, y)\n",
        "\n",
        "y_pred = model.predict(X)\n",
        "y_pred"
      ],
      "metadata": {
        "colab": {
          "base_uri": "https://localhost:8080/"
        },
        "id": "ERC3pNnz9mlb",
        "outputId": "2fca3831-6255-475b-8121-23561b4dd282"
      },
      "execution_count": null,
      "outputs": [
        {
          "output_type": "execute_result",
          "data": {
            "text/plain": [
              "array([1.86232616, 3.08068643, 4.99828308])"
            ]
          },
          "metadata": {},
          "execution_count": 44
        }
      ]
    }
  ]
}