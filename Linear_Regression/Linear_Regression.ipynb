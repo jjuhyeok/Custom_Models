{
 "cells": [
  {
   "cell_type": "code",
   "execution_count": null,
   "metadata": {},
   "outputs": [],
   "source": [
    "# 필요한 라이브러리를 가져옵니다.\n",
    "import numpy as np\n",
    "\n",
    "# 학습 데이터를 정의합니다.\n",
    "X = np.array([1, 2, 3, 4, 5])  # 독립 변수\n",
    "Y = np.array([2, 4, 5, 4, 5])  # 종속 변수\n",
    "\n",
    "# 학습률과 학습 횟수를 정의합니다.\n",
    "learning_rate = 0.01\n",
    "epochs = 1000\n",
    "\n",
    "# 초기 가중치와 편향을 설정합니다. 초기에는 임의 지정\n",
    "w = 0\n",
    "b = 0\n",
    "\n",
    "# 경사 하강법을 사용하여 모델을 학습합니다.\n",
    "for epoch in range(epochs):\n",
    "    # 예측값을 계산합니다.\n",
    "    Y_pred = w * X + b\n",
    "\n",
    "    # 손실 함수를 계산합니다.\n",
    "\t\t# 선형 회귀에서는 주로 평균제곱오차(MSE) 사용\n",
    "    loss = np.mean((Y_pred - Y) ** 2)\n",
    "\n",
    "    # 손실 함수의 그래디언트를 계산합니다.\n",
    "\t\t# 손실 함수을 미분하여 최솟값 찾기\n",
    "    dw = 2 * np.mean((Y_pred - Y) * X)\n",
    "    db = 2 * np.mean(Y_pred - Y)\n",
    "    print(dw)\n",
    "    print(db)\n",
    "    # 가중치와 편향을 업데이트합니다.\n",
    "    w -= learning_rate * dw\n",
    "    b -= learning_rate * db\n",
    "\n",
    "    # 매 100번째 반복마다 손실을 출력합니다.\n",
    "    if epoch % 100 == 0:\n",
    "        print(f'Epoch {epoch}: Loss = {loss:.4f}')\n",
    "\n",
    "# 최종적으로 학습된 가중치와 편향을 출력합니다.\n",
    "# 주로 목적함수가 0에 가까운 값으로 수렴하면 멈춤\n",
    "print(f'최종 가중치 (w): {w:.4f}')\n",
    "print(f'최종 편향 (b): {b:.4f}')"
   ]
  }
 ],
 "metadata": {
  "language_info": {
   "name": "python"
  },
  "orig_nbformat": 4
 },
 "nbformat": 4,
 "nbformat_minor": 2
}
